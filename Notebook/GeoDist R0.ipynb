{
 "cells": [
  {
   "cell_type": "code",
   "execution_count": 1,
   "metadata": {},
   "outputs": [],
   "source": [
    "#\n",
    "# This program calculates the great circle that minimizes the total distance between a set of points and it.\n",
    "# It uses a numerical approximation method: \n",
    "# - an initial selection of randomly generated great-circles,\n",
    "# - a gradient search afterwards.\n",
    "# Formulas from: https://www.movable-type.co.uk/scripts/latlong.html\n",
    "# Additionally it creates some charts:\n",
    "# - several plots showing the convergence of the solutions,\n",
    "# - a picture of the total distance for \"all\" great-circles.\n",
    "# Units: \n",
    "# - distance: km, \n",
    "# - angle: degrees for input, radians for internal calculations.\n",
    "# The coordinates are entered as (lon, lat), NOT (lat, lon).\n"
   ]
  },
  {
   "cell_type": "code",
   "execution_count": 2,
   "metadata": {},
   "outputs": [],
   "source": [
    "# Version log.\n",
    "# \n",
    "# R0 (20200330)\n",
    "# First trials.\n",
    "# Seems to work well.\n"
   ]
  },
  {
   "cell_type": "code",
   "execution_count": 99,
   "metadata": {},
   "outputs": [],
   "source": [
    "# Files and directories.\n",
    "# Directories.\n",
    "RootDir = 'D:/0 DOWN/00 PY RG/GIS/GEODIST/IO DATA/'\n",
    "\n",
    "# I/O files:\n",
    "FileNameOut1 = RootDir + 'GEODIST_out R0.csv'\n"
   ]
  },
  {
   "cell_type": "code",
   "execution_count": null,
   "metadata": {},
   "outputs": [],
   "source": [
    "# Input data (from www.latlon.net).\n",
    "# All points have this structure: [description, LON, LAT].\n",
    "CRD = [ \n",
    "    ['NYC', radians(-73.935242), radians( 40.730610)],\n",
    "    ['TEH', radians( 51.404343), radians( 35.715298)],\n",
    "    ['BEI', radians(116.383331), radians( 39.916668)],\n",
    "    ['MAD', radians( -3.703790), radians( 40.416775)]\n",
    "]\n"
   ]
  },
  {
   "cell_type": "code",
   "execution_count": 4,
   "metadata": {},
   "outputs": [],
   "source": [
    "# Import modules.\n",
    "from math import radians, degrees, cos, sin, asin, atan2, sqrt, pi\n",
    "from random import uniform\n",
    "import matplotlib.pyplot as plt\n",
    "\n",
    "# Nice printing.\n",
    "#from IPython.core.interactiveshell import InteractiveShell\n",
    "#InteractiveShell.ast_node_interactivity = \"all\"\n"
   ]
  },
  {
   "cell_type": "code",
   "execution_count": 62,
   "metadata": {},
   "outputs": [],
   "source": [
    "# Functions.\n",
    "def f_bearing(P1, P2):\n",
    "    \"\"\"\n",
    "    Calculates the bearing between two points.\n",
    "    \"\"\"\n",
    "    LON1, LAT1 = P1[1], P1[2]\n",
    "    LON2, LAT2 = P2[1], P2[2]\n",
    "    Y = sin(LON2-LON1) * cos(LAT2)\n",
    "    X = cos(LAT1) * sin(LAT2) - sin(LAT1) * cos(LAT2) * cos(LON2 - LON1)\n",
    "    B = atan2(Y, X)\n",
    "    return B\n",
    "\n",
    "\n",
    "def f_dist(P1, P2, R = 6371.):\n",
    "    '''\n",
    "    Calculates the great-circle distance btw two points.\n",
    "    '''\n",
    "    LON1, LAT1 = P1[1], P1[2]\n",
    "    LON2, LAT2 = P2[1], P2[2]\n",
    "    DLON = LON2 - LON1\n",
    "    DLAT = LAT2 - LAT1\n",
    "    A = (sin(DLAT/2))**2 + cos(LAT1) * cos(LAT2) * (sin(DLON/2))**2\n",
    "    C = 2 * atan2(sqrt(A), sqrt(1.- A))\n",
    "    D = R * C\n",
    "    if (D > pi * R):\n",
    "        print ('Warning: f_dist(P1, P2) = {0:8.1f} > PI*R for P1 = {1} and P2 = {2}'.format(D, P1, P2))\n",
    "    return D\n",
    "    \n",
    "    \n",
    "def f_cross(P1, P2, P3, R = 6371.):\n",
    "    '''\n",
    "    Calculates the cross-track distance: the distance between P3 and the geodesic btw P1 and P2.\n",
    "    Sign is eliminated.\n",
    "    '''\n",
    "    B12 = f_bearing(P1, P2)\n",
    "    B13 = f_bearing(P1, P3)\n",
    "    d13 = f_dist(P1, P3) / R\n",
    "    D   = asin(sin(d13) * sin(B13 - B12)) * R\n",
    "    if (abs(D) > pi * R / 2):\n",
    "        print ('Warning: f_cross(P1, P2, P3)= {0:8.1f} > PI*R/2 for P1= {1}, P2= {2}  and P3= {3}'.format(D, P1, P2, P3))\n",
    "    return abs(D)\n",
    "\n",
    "\n",
    "def f_sum(PA, PB, CRD):\n",
    "    '''\n",
    "    Calculates the sum of the cross distances btw the geodesic (great-circle) btw PA and PB and all the points in CRD.\n",
    "    '''\n",
    "    D = 0.\n",
    "    for P in CRD:\n",
    "        D += f_cross(PA, PB, P)\n",
    "    return D\n",
    "\n",
    "def f_int(P1, P2, f, R = 6371.):\n",
    "    ''' \n",
    "    Calculates an intermediate point in the great circle PA-PB whose distance from PA is a fraction (f) of dist(PA-PB).\n",
    "    '''\n",
    "    LON1, LAT1 = P1[1], P1[2]\n",
    "    LON2, LAT2 = P2[1], P2[2]\n",
    "    d12  = f_dist(P1, P2) / R\n",
    "    A    = sin(d12 * (1.-f)) / sin(d12)\n",
    "    B    = sin(d12 * f     ) / sin(d12)\n",
    "    X    = A * cos(LAT1) * cos(LON1) + B * cos(LAT2) * cos(LON2)\n",
    "    Y    = A * cos(LAT1) * sin(LON1) + B * cos(LAT2) * sin(LON2)\n",
    "    Z    = A * sin(LAT1)             + B * sin(LAT2)\n",
    "    LATi = atan2(Z, sqrt(X**2 + Y**2))\n",
    "    LONi = atan2(Y, X)\n",
    "    return [LONi, LATi]\n"
   ]
  },
  {
   "cell_type": "code",
   "execution_count": 71,
   "metadata": {
    "scrolled": true
   },
   "outputs": [],
   "source": [
    "# Random iterations - effect of the number of iterations.\n",
    "Niter   = 50\n",
    "cnt_ref = 2000\n",
    "RES     = []\n",
    "\n",
    "for i in range(0, Niter, 1):\n",
    "    aux = []\n",
    "    DS0     = 1E10\n",
    "    cnt_max = (i+1) * cnt_ref / (Niter + 1) # Increase the number of iterations within the loop.\n",
    "    cnt     = 0\n",
    "    while cnt < cnt_max: \n",
    "        PA  = ['PA', radians(uniform(0., 360.)), radians(10.)]\n",
    "        PB  = ['PB', radians(uniform(0., 360.)), radians(10.)]        \n",
    "        DS  = f_sum(PA, PB, CRD)\n",
    "        if DS < DS0:\n",
    "            PA0 = PA\n",
    "            PB0 = PB\n",
    "            DS0 = DS\n",
    "            aux.append([PA[1], PB[1], cnt, DS, cnt_max])\n",
    "        cnt += 1\n",
    "        #if cnt % 100 == 0:\n",
    "        #    print (cnt)\n",
    "\n",
    "    # Take a look:\n",
    "    print_out = False\n",
    "    if print_out:\n",
    "        print('Number of iterations: {0:8.0f}'.format(cnt_max))\n",
    "        print ('DS at final point: {0:8.1f}'.format(DS0))\n",
    "        for x in CRD:\n",
    "            print ('DS to {0}: {1:8.1f}'.format(x[0], f_cross(PA0, PB0, x)))\n",
    "        print ('{0}: {1:5.3f}, {2:5.3f}'.format(PA0[0], PA0[1], PA0[2]))\n",
    "        print ('{0}: {1:5.3f}, {2:5.3f}'.format(PB0[0], PB0[1], PB0[2]))\n",
    "        print (i)\n",
    "    RES.append(aux)\n"
   ]
  },
  {
   "cell_type": "code",
   "execution_count": 72,
   "metadata": {},
   "outputs": [
    {
     "data": {
      "image/png": "[encoded data removed]",
      "text/plain": [
       "<Figure size 432x288 with 1 Axes>"
      ]
     },
     "metadata": {
      "needs_background": "light"
     },
     "output_type": "display_data"
    }
   ],
   "source": [
    "# Visualize the evolution of the results:\n",
    "fig, ax = plt.subplots()\n",
    "# Organize the results.\n",
    "RESd = [x[-1][3] for x in RES]\n",
    "RESe = [x[ 0][4] for x in RES]\n",
    "    \n",
    "ax.plot(RESe, RESd, c = 'k', linestyle = '--', linewidth = 0.2, marker = '.', markersize = 2)\n",
    "\n",
    "ax.set_title(' Evolution of random improvements', loc = 'right')\n",
    "ax.set_xlabel('N_iter')\n",
    "ax.set_ylabel('SUM_D, km')\n",
    "#ax.set_xlim(0, 2*pi)\n",
    "#ax.set_ylim(0, 2*pi)\n",
    "ax.grid(True)\n",
    "plt.show()\n"
   ]
  },
  {
   "cell_type": "code",
   "execution_count": 73,
   "metadata": {},
   "outputs": [],
   "source": [
    "# Random iterations.\n",
    "Niter   = 10\n",
    "cnt_max = 10000\n",
    "RES     = []\n",
    "\n",
    "for i in range(0, Niter, 1):\n",
    "    aux = []\n",
    "    DS0     = 1E10\n",
    "    cnt     = 0\n",
    "    while cnt < cnt_max: \n",
    "        # Define PA and PB randomly along the LAT=10º circle.\n",
    "        # The great circles have 2 degrees of freedom, and it is easier to fix LAT.\n",
    "        # The distances are correctly calculated even if the points are in the southern hemisphere.\n",
    "        # LAT != 0 to avoid having just one great-circle.\n",
    "        PA  = ['PA', uniform(0,    pi), radians(10.)]\n",
    "        PB  = ['PB', uniform(pi, 2*pi), radians(10.)]        \n",
    "        DS  = f_sum(PA, PB, CRD)\n",
    "        if DS < DS0:\n",
    "            PA0 = PA\n",
    "            PB0 = PB\n",
    "            DS0 = DS\n",
    "            aux.append([PA[1], PB[1], cnt, DS])\n",
    "        cnt += 1\n",
    "\n",
    "    # Take a look:\n",
    "    print_out = False\n",
    "    if print_out:\n",
    "        print ('DS at final iteration: {0:8.1f}'.format(DS0))\n",
    "        for x in CRD:\n",
    "            print ('DS to {0}: {1:8.1f}'.format(x[0], f_cross(PA0, PB0, x)))\n",
    "        print ('{0}: {1:5.3f}, {2:5.3f}'.format(PA0[0], PA0[1], PA0[2]))\n",
    "        print ('{0}: {1:5.3f}, {2:5.3f}'.format(PB0[0], PB0[1], PB0[2]))\n",
    "        print (i)\n",
    "    RES.append(aux)\n"
   ]
  },
  {
   "cell_type": "code",
   "execution_count": 74,
   "metadata": {},
   "outputs": [
    {
     "data": {
      "image/png": "[encoded data removed]",
      "text/plain": [
       "<Figure size 432x288 with 1 Axes>"
      ]
     },
     "metadata": {
      "needs_background": "light"
     },
     "output_type": "display_data"
    }
   ],
   "source": [
    "# Visualize the evolution of the results:\n",
    "fig, ax = plt.subplots()\n",
    "for i in range(0, len(RES), 1):\n",
    "    # Organize the results.\n",
    "    RESa = [x[0] for x in RES[i]]\n",
    "    RESb = [x[1] for x in RES[i]]\n",
    "    \n",
    "    ax.plot(RESa, RESb, c = 'k', linestyle = '--', linewidth = 0.2, marker = '.', markersize = 2)\n",
    "    ax.scatter(RESa[-1], RESb[-1], c = 'r', s = 20)\n",
    "\n",
    "ax.set_title(' Evolution of random improvements', loc = 'right')\n",
    "ax.set_xlabel('LON_A (rad)')\n",
    "ax.set_ylabel('LON_B (rad)')\n",
    "ax.set_xlim(0, pi)\n",
    "ax.set_ylim(pi, 2*pi)\n",
    "ax.grid(True)\n",
    "plt.show()\n"
   ]
  },
  {
   "cell_type": "code",
   "execution_count": 75,
   "metadata": {},
   "outputs": [
    {
     "name": "stdout",
     "output_type": "stream",
     "text": [
      "cnt = 2; DS at final point =   7205.2\n",
      "DS to NYC:   2788.2\n",
      "DS to TEH:      6.7\n",
      "DS to BEI:   4174.9\n",
      "DS to MAD:    235.4\n",
      "PA2: 1.568, 0.175\n",
      "PB2: 5.084, 0.175\n"
     ]
    }
   ],
   "source": [
    "# Further iteration through the gradient.\n",
    "EPS = 0.001\n",
    "cnt = 0\n",
    "cnt_max = 10000\n",
    "\n",
    "while cnt < cnt_max: \n",
    "    PA1 = ['PA1', PA0[1] * (1 + EPS), PA0[2]]\n",
    "    PB1 = ['PB1', PB0[1] * (1 + EPS), PB0[2]]\n",
    "    DSA  = f_sum(PA1, PB0, CRD)\n",
    "    DSB  = f_sum(PA0, PB1, CRD)\n",
    "    DSAg = (DSA - DS0) / (PA0[1] * EPS)\n",
    "    DSBg = (DSB - DS0) / (PB0[1] * EPS)\n",
    "    DSgn = sqrt(DSAg**2 + DSBg**2)\n",
    "    DSgu = ['DSg', DSAg / DSgn, DSBg / DSgn]\n",
    "    PA2  = ['PA2', PA0[1] * ( 1 - DSgu[1] * EPS), PA0[2]]\n",
    "    PB2  = ['PB2', PB0[1] * ( 1 - DSgu[2] * EPS), PB0[2]]\n",
    "    DS2  = f_sum(PA2, PB2, CRD)\n",
    "    if DS2 > DS0: # stop iterations\n",
    "        break\n",
    "    else:\n",
    "        DS0 = DS2\n",
    "        PA0 = PA2\n",
    "        PB0 = PB2\n",
    "    cnt += 1\n",
    "\n",
    "# Take a look:\n",
    "print_out = True\n",
    "if print_out:\n",
    "    print ('cnt = {0:d}; DS at final point = {1:8.1f}'.format(cnt, DS0))\n",
    "    for x in CRD:\n",
    "        print ('DS to {0}: {1:8.1f}'.format(x[0], f_cross(PA0, PB0, x)))\n",
    "    print ('{0}: {1:5.3f}, {2:5.3f}'.format(PA0[0], PA0[1], PA0[2]))\n",
    "    print ('{0}: {1:5.3f}, {2:5.3f}'.format(PB0[0], PB0[1], PB0[2]))\n",
    "    "
   ]
  },
  {
   "cell_type": "code",
   "execution_count": 77,
   "metadata": {},
   "outputs": [],
   "source": [
    "# Intermediate points along the great circle.\n",
    "GRC = []\n",
    "GRC.append(PA0[1:])\n",
    "Np  = 100\n",
    "for i in range(1, Np, 1):\n",
    "    GRC.append(f_int(PA0, PB0, i / Np))\n",
    "GRC.append(PB0[1:])\n"
   ]
  },
  {
   "cell_type": "code",
   "execution_count": 78,
   "metadata": {},
   "outputs": [],
   "source": [
    "# Convert to degrees.\n",
    "GRCd = [[degrees(x[0]), degrees(x[1])] for x in GRC]\n",
    "\n",
    "# Take a look:\n",
    "print_out = False\n",
    "if print_out:\n",
    "    print(GRCd[0:10])\n",
    "    print(GRCd[-10:])"
   ]
  },
  {
   "cell_type": "code",
   "execution_count": 100,
   "metadata": {},
   "outputs": [],
   "source": [
    "# Save the results.\n",
    "with open(FileNameOut1, 'w') as file:\n",
    "    for item in GRCd:\n",
    "        file.write(\"{0}, {1}\\n\".format(item[0], item[1]))\n",
    "file.close()\n"
   ]
  },
  {
   "cell_type": "code",
   "execution_count": null,
   "metadata": {},
   "outputs": [],
   "source": [
    "#\n",
    "# CREATE A CHART FOR THE DISTANCES FROM \"ALL\" GREAT-CIRCLES.\n",
    "#"
   ]
  },
  {
   "cell_type": "code",
   "execution_count": 86,
   "metadata": {},
   "outputs": [],
   "source": [
    "# Imports modules.\n",
    "import numpy as np\n",
    "from PIL import Image\n"
   ]
  },
  {
   "cell_type": "code",
   "execution_count": 87,
   "metadata": {},
   "outputs": [],
   "source": [
    "# Color functions.\n",
    "# Sources: \n",
    "# Functions: https://stackoverflow.com/questions/2353211/hsl-to-rgb-color-conversion\n",
    "# Comments: https://stackoverflow.com/questions/17525215/calculate-color-values-from-green-to-red/17527156#17527156\n",
    "\n",
    "def f_hue_aux(P, Q, T):\n",
    "    '''\n",
    "    Auxiliary function.\n",
    "    '''\n",
    "    t = T\n",
    "    if (t < 0):\n",
    "        t += 1\n",
    "    if (t > 1):\n",
    "        t -= 1\n",
    "    if (t < 1/6):\n",
    "        return P + (Q - P) * 6 * t\n",
    "    if (t < 1/2):\n",
    "        return Q\n",
    "    if (t < 2/3):\n",
    "        return P + (Q - P) * (2/3 - t) * 6\n",
    "    else:\n",
    "        return P\n",
    "\n",
    "def f_hsl2rgb(H, S, L):\n",
    "    '''\n",
    "    Converts from hsl to rgb.\n",
    "    '''  \n",
    "    if S == 0:\n",
    "        G = round(L*255) # Achromatic, use its lightness for a grey-scale color\n",
    "        return (G, G, G)\n",
    "    if L < 0.5:\n",
    "        Q = L * (1 + S)\n",
    "    else:\n",
    "        Q = L + S - L * S\n",
    "    P = 2 * L- Q\n",
    "        \n",
    "    R = int(round(255 * f_hue_aux(P, Q, H + 1/3)))\n",
    "    G = int(round(255 * f_hue_aux(P, Q, H      )))\n",
    "    B = int(round(255 * f_hue_aux(P, Q, H - 1/3)))\n",
    "\n",
    "    return (R, G, B)\n",
    "\n",
    "def f_n2rgb(i, H0 = 0, H1 = 360):\n",
    "    '''\n",
    "    Maps values in the range [0, 1] to a continuous HSL color space, then converts to RGB.\n",
    "    '''\n",
    "    # Map i*[H0, H1] into i*[0, 360]:\n",
    "    H = ((i * (H1 - H0)) + H0) / 360\n",
    "    # Convert hsl to rgb (saturation 100%, lightness 50%)\n",
    "    RGB = f_hsl2rgb(H, 1, .5)\n",
    "    return RGB\n"
   ]
  },
  {
   "cell_type": "code",
   "execution_count": 90,
   "metadata": {},
   "outputs": [
    {
     "name": "stdout",
     "output_type": "stream",
     "text": [
      "20961 7112\n"
     ]
    }
   ],
   "source": [
    "# Picture of the results.\n",
    "Npix = 360\n",
    "RESm = np.zeros((Npix, Npix), dtype = int)\n",
    "i = 0\n",
    "for A in np.linspace(0., pi, Npix, endpoint = False):\n",
    "    j = 0\n",
    "    for B in np.linspace(pi, 2*pi, Npix, endpoint = False):\n",
    "        PA  = ['PA', A, radians(10.)]\n",
    "        PB  = ['PB', B, radians(10.)]        \n",
    "        DS  = f_sum(PA, PB, CRD)\n",
    "        RESm[i, j] = int(DS)\n",
    "        j += 1\n",
    "    i += 1\n",
    "\n",
    "# Take a look:\n",
    "print (RESm.max(), RESm.min())\n"
   ]
  },
  {
   "cell_type": "code",
   "execution_count": 91,
   "metadata": {},
   "outputs": [],
   "source": [
    "# Create the image:\n",
    "\n",
    "# Auxiliary variables:\n",
    "fscale = 5 # so that the image is 5*(Npix, Npix)\n",
    "Cmin   = RESm.min()\n",
    "Crange = RESm.max() - Cmin # Range of values to be mapped into the RGB space.\n",
    " \n",
    "# Create a new black image:\n",
    "imgA   = Image.new( 'RGB', (Npix,Npix), \"black\") \n",
    "\n",
    "# Create the pixel map:\n",
    "imgAmap = imgA.load() \n",
    "\n",
    "# Edit the pixels:\n",
    "for i in range(Npix): \n",
    "    for j in range(Npix):\n",
    "        imgAmap[j, i] = f_n2rgb((RESm[i,j] - Cmin) / Crange)\n",
    "\n",
    "# Show the result:\n",
    "imgA.show()\n"
   ]
  },
  {
   "cell_type": "code",
   "execution_count": 101,
   "metadata": {},
   "outputs": [],
   "source": [
    "# Resize and save.\n",
    "imgAr = imgA.resize((Npix*fscale, Npix*fscale))\n",
    "\n",
    "FileNameOut2 = RootDir + 'GEODIST_out R0.png'\n",
    "imgAr.save(FileNameOut2)\n"
   ]
  },
  {
   "cell_type": "code",
   "execution_count": null,
   "metadata": {},
   "outputs": [],
   "source": []
  }
 ],
 "metadata": {
  "kernelspec": {
   "display_name": "Python 3",
   "language": "python",
   "name": "python3"
  },
  "language_info": {
   "codemirror_mode": {
    "name": "ipython",
    "version": 3
   },
   "file_extension": ".py",
   "mimetype": "text/x-python",
   "name": "python",
   "nbconvert_exporter": "python",
   "pygments_lexer": "ipython3",
   "version": "3.7.3"
  }
 },
 "nbformat": 4,
 "nbformat_minor": 4
}
